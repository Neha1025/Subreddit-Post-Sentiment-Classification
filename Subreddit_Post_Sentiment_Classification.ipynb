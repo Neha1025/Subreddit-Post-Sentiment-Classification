{
  "nbformat": 4,
  "nbformat_minor": 0,
  "metadata": {
    "colab": {
      "name": "Subreddit Post Sentiment Classification",
      "provenance": [],
      "collapsed_sections": [],
      "include_colab_link": true
    },
    "kernelspec": {
      "name": "python3",
      "display_name": "Python 3"
    }
  },
  "cells": [
    {
      "cell_type": "markdown",
      "metadata": {
        "id": "view-in-github",
        "colab_type": "text"
      },
      "source": [
        "<a href=\"https://colab.research.google.com/github/Neha1025/Subreddit-Post-Sentiment-Classification/blob/main/Subreddit_Post_Sentiment_Classification.ipynb\" target=\"_parent\"><img src=\"https://colab.research.google.com/assets/colab-badge.svg\" alt=\"Open In Colab\"/></a>"
      ]
    },
    {
      "cell_type": "markdown",
      "metadata": {
        "id": "2gv2i9fNDvrg"
      },
      "source": [
        "## Post Sentiment Classification Task"
      ]
    },
    {
      "cell_type": "code",
      "metadata": {
        "id": "ZG9BpbQt3-ko"
      },
      "source": [
        "import pandas as pd\n",
        "import numpy as np\n",
        "import matplotlib.pyplot as plt\n",
        "\n",
        "train_data = pd.read_json(\"https://raw.githubusercontent.com/rpsoft/tad_course/main/reddit_sentiment_train.json\")\n",
        "\n",
        "validation_data = pd.read_json(\"https://raw.githubusercontent.com/rpsoft/tad_course/main/reddit_sentiment_validation.json\")\n",
        "\n",
        "test_data = pd.read_json(\"https://raw.githubusercontent.com/rpsoft/tad_course/main/reddit_sentiment_test.json\")"
      ],
      "execution_count": null,
      "outputs": []
    },
    {
      "cell_type": "code",
      "metadata": {
        "colab": {
          "base_uri": "https://localhost:8080/"
        },
        "id": "7-tneVhtvMZB",
        "outputId": "63a2e2f7-c490-44c6-f185-86ce7b16e956"
      },
      "source": [
        "print('Training set contains {:d} reviews.'.format(len(train_data)))\n",
        "print('Validation set contains {:d} reviews.'.format(len(validation_data)))\n",
        "print('Test set contains {:d} reviews.'.format(len(test_data)))"
      ],
      "execution_count": null,
      "outputs": [
        {
          "output_type": "stream",
          "text": [
            "Training set contains 12138 reviews.\n",
            "Validation set contains 3109 reviews.\n",
            "Test set contains 4016 reviews.\n"
          ],
          "name": "stdout"
        }
      ]
    },
    {
      "cell_type": "code",
      "metadata": {
        "colab": {
          "base_uri": "https://localhost:8080/"
        },
        "id": "TG7s5bMcr1tI",
        "outputId": "b87a958f-3991-49e0-a409-5361af7bfb2d"
      },
      "source": [
        "train_data.columns"
      ],
      "execution_count": null,
      "outputs": [
        {
          "output_type": "execute_result",
          "data": {
            "text/plain": [
              "Index(['subreddit', 'title', 'id', 'url', 'author', 'body', 'majority_type',\n",
              "       'is_first_post', 'post_depth', 'in_reply_to', 'sentiment.polarity',\n",
              "       'sentiment.subjectivity'],\n",
              "      dtype='object')"
            ]
          },
          "metadata": {
            "tags": []
          },
          "execution_count": 4
        }
      ]
    },
    {
      "cell_type": "code",
      "metadata": {
        "colab": {
          "base_uri": "https://localhost:8080/",
          "height": 502
        },
        "id": "SBdinIUZccrb",
        "outputId": "83f6bf81-3de6-4b44-d8a6-a9fdd3415f25"
      },
      "source": [
        "import collections\n",
        "a=[]\n",
        "label_counts = collections.Counter(train_data['sentiment.polarity'])\n",
        "for label in label_counts:\n",
        "  print (\"class: \" + str(label))\n",
        "  print (label_counts[label] / len(train_data))\n",
        "  a.append(label_counts[label] / len(train_data))\n",
        "\n",
        "# Creating dataset\n",
        "labels = ['Negative', 'Neutral', 'Positive',\n",
        "        'Very Positive', 'very negative']\n",
        "   \n",
        "# Creating plot\n",
        "plt.title('Class distribution for training data')\n",
        "\n",
        "plt.pie(a, labels = labels,autopct='%1.1f%%')\n",
        "plt.axis('equal')\n"
      ],
      "execution_count": null,
      "outputs": [
        {
          "output_type": "stream",
          "text": [
            "class: negative\n",
            "0.07233481627945296\n",
            "class: neutral\n",
            "0.6326412918108419\n",
            "class: positive\n",
            "0.2661888284725655\n",
            "class: very positive\n",
            "0.02084363157027517\n",
            "class: very negative\n",
            "0.007991431866864393\n"
          ],
          "name": "stdout"
        },
        {
          "output_type": "execute_result",
          "data": {
            "text/plain": [
              "(-1.1136909972705993,\n",
              " 1.1006519537387514,\n",
              " -1.1108579542922878,\n",
              " 1.1139793695338285)"
            ]
          },
          "metadata": {
            "tags": []
          },
          "execution_count": 149
        },
        {
          "output_type": "display_data",
          "data": {
            "image/png": "[encoded data removed]",
            "text/plain": [
              "<Figure size 432x288 with 1 Axes>"
            ]
          },
          "metadata": {
            "tags": []
          }
        }
      ]
    },
    {
      "cell_type": "code",
      "metadata": {
        "colab": {
          "base_uri": "https://localhost:8080/",
          "height": 255
        },
        "id": "Gy6Rqd87bIsT",
        "outputId": "7ba9d59d-f78d-4f13-b2d9-01de7084b1cb"
      },
      "source": [
        "train_data.groupby(by='sentiment.polarity').count()"
      ],
      "execution_count": null,
      "outputs": [
        {
          "output_type": "execute_result",
          "data": {
            "text/html": [
              "<div>\n",
              "<style scoped>\n",
              "    .dataframe tbody tr th:only-of-type {\n",
              "        vertical-align: middle;\n",
              "    }\n",
              "\n",
              "    .dataframe tbody tr th {\n",
              "        vertical-align: top;\n",
              "    }\n",
              "\n",
              "    .dataframe thead th {\n",
              "        text-align: right;\n",
              "    }\n",
              "</style>\n",
              "<table border=\"1\" class=\"dataframe\">\n",
              "  <thead>\n",
              "    <tr style=\"text-align: right;\">\n",
              "      <th></th>\n",
              "      <th>subreddit</th>\n",
              "      <th>title</th>\n",
              "      <th>id</th>\n",
              "      <th>url</th>\n",
              "      <th>author</th>\n",
              "      <th>body</th>\n",
              "      <th>majority_type</th>\n",
              "      <th>is_first_post</th>\n",
              "      <th>post_depth</th>\n",
              "      <th>in_reply_to</th>\n",
              "      <th>sentiment.subjectivity</th>\n",
              "    </tr>\n",
              "    <tr>\n",
              "      <th>sentiment.polarity</th>\n",
              "      <th></th>\n",
              "      <th></th>\n",
              "      <th></th>\n",
              "      <th></th>\n",
              "      <th></th>\n",
              "      <th></th>\n",
              "      <th></th>\n",
              "      <th></th>\n",
              "      <th></th>\n",
              "      <th></th>\n",
              "      <th></th>\n",
              "    </tr>\n",
              "  </thead>\n",
              "  <tbody>\n",
              "    <tr>\n",
              "      <th>negative</th>\n",
              "      <td>878</td>\n",
              "      <td>878</td>\n",
              "      <td>878</td>\n",
              "      <td>878</td>\n",
              "      <td>878</td>\n",
              "      <td>878</td>\n",
              "      <td>878</td>\n",
              "      <td>878</td>\n",
              "      <td>878</td>\n",
              "      <td>878</td>\n",
              "      <td>878</td>\n",
              "    </tr>\n",
              "    <tr>\n",
              "      <th>neutral</th>\n",
              "      <td>7679</td>\n",
              "      <td>7679</td>\n",
              "      <td>7679</td>\n",
              "      <td>7679</td>\n",
              "      <td>7679</td>\n",
              "      <td>7679</td>\n",
              "      <td>7679</td>\n",
              "      <td>7679</td>\n",
              "      <td>7679</td>\n",
              "      <td>7679</td>\n",
              "      <td>7679</td>\n",
              "    </tr>\n",
              "    <tr>\n",
              "      <th>positive</th>\n",
              "      <td>3231</td>\n",
              "      <td>3231</td>\n",
              "      <td>3231</td>\n",
              "      <td>3231</td>\n",
              "      <td>3231</td>\n",
              "      <td>3231</td>\n",
              "      <td>3231</td>\n",
              "      <td>3231</td>\n",
              "      <td>3231</td>\n",
              "      <td>3231</td>\n",
              "      <td>3231</td>\n",
              "    </tr>\n",
              "    <tr>\n",
              "      <th>very negative</th>\n",
              "      <td>97</td>\n",
              "      <td>97</td>\n",
              "      <td>97</td>\n",
              "      <td>97</td>\n",
              "      <td>97</td>\n",
              "      <td>97</td>\n",
              "      <td>97</td>\n",
              "      <td>97</td>\n",
              "      <td>97</td>\n",
              "      <td>97</td>\n",
              "      <td>97</td>\n",
              "    </tr>\n",
              "    <tr>\n",
              "      <th>very positive</th>\n",
              "      <td>253</td>\n",
              "      <td>253</td>\n",
              "      <td>253</td>\n",
              "      <td>253</td>\n",
              "      <td>253</td>\n",
              "      <td>253</td>\n",
              "      <td>253</td>\n",
              "      <td>253</td>\n",
              "      <td>253</td>\n",
              "      <td>253</td>\n",
              "      <td>253</td>\n",
              "    </tr>\n",
              "  </tbody>\n",
              "</table>\n",
              "</div>"
            ],
            "text/plain": [
              "                    subreddit  title  ...  in_reply_to  sentiment.subjectivity\n",
              "sentiment.polarity                    ...                                     \n",
              "negative                  878    878  ...          878                     878\n",
              "neutral                  7679   7679  ...         7679                    7679\n",
              "positive                 3231   3231  ...         3231                    3231\n",
              "very negative              97     97  ...           97                      97\n",
              "very positive             253    253  ...          253                     253\n",
              "\n",
              "[5 rows x 11 columns]"
            ]
          },
          "metadata": {
            "tags": []
          },
          "execution_count": 144
        }
      ]
    },
    {
      "cell_type": "code",
      "metadata": {
        "colab": {
          "base_uri": "https://localhost:8080/",
          "height": 255
        },
        "id": "1QIooCQqbPUV",
        "outputId": "f9cc6d06-54b9-4c17-b870-9be6880ed5be"
      },
      "source": [
        "test_data.groupby(by='sentiment.polarity').count()"
      ],
      "execution_count": null,
      "outputs": [
        {
          "output_type": "execute_result",
          "data": {
            "text/html": [
              "<div>\n",
              "<style scoped>\n",
              "    .dataframe tbody tr th:only-of-type {\n",
              "        vertical-align: middle;\n",
              "    }\n",
              "\n",
              "    .dataframe tbody tr th {\n",
              "        vertical-align: top;\n",
              "    }\n",
              "\n",
              "    .dataframe thead th {\n",
              "        text-align: right;\n",
              "    }\n",
              "</style>\n",
              "<table border=\"1\" class=\"dataframe\">\n",
              "  <thead>\n",
              "    <tr style=\"text-align: right;\">\n",
              "      <th></th>\n",
              "      <th>subreddit</th>\n",
              "      <th>title</th>\n",
              "      <th>id</th>\n",
              "      <th>url</th>\n",
              "      <th>author</th>\n",
              "      <th>body</th>\n",
              "      <th>majority_type</th>\n",
              "      <th>is_first_post</th>\n",
              "      <th>post_depth</th>\n",
              "      <th>in_reply_to</th>\n",
              "      <th>sentiment.subjectivity</th>\n",
              "    </tr>\n",
              "    <tr>\n",
              "      <th>sentiment.polarity</th>\n",
              "      <th></th>\n",
              "      <th></th>\n",
              "      <th></th>\n",
              "      <th></th>\n",
              "      <th></th>\n",
              "      <th></th>\n",
              "      <th></th>\n",
              "      <th></th>\n",
              "      <th></th>\n",
              "      <th></th>\n",
              "      <th></th>\n",
              "    </tr>\n",
              "  </thead>\n",
              "  <tbody>\n",
              "    <tr>\n",
              "      <th>negative</th>\n",
              "      <td>282</td>\n",
              "      <td>282</td>\n",
              "      <td>282</td>\n",
              "      <td>282</td>\n",
              "      <td>282</td>\n",
              "      <td>282</td>\n",
              "      <td>282</td>\n",
              "      <td>282</td>\n",
              "      <td>282</td>\n",
              "      <td>282</td>\n",
              "      <td>282</td>\n",
              "    </tr>\n",
              "    <tr>\n",
              "      <th>neutral</th>\n",
              "      <td>2514</td>\n",
              "      <td>2514</td>\n",
              "      <td>2514</td>\n",
              "      <td>2514</td>\n",
              "      <td>2514</td>\n",
              "      <td>2514</td>\n",
              "      <td>2514</td>\n",
              "      <td>2514</td>\n",
              "      <td>2514</td>\n",
              "      <td>2514</td>\n",
              "      <td>2514</td>\n",
              "    </tr>\n",
              "    <tr>\n",
              "      <th>positive</th>\n",
              "      <td>1102</td>\n",
              "      <td>1102</td>\n",
              "      <td>1102</td>\n",
              "      <td>1102</td>\n",
              "      <td>1102</td>\n",
              "      <td>1102</td>\n",
              "      <td>1102</td>\n",
              "      <td>1102</td>\n",
              "      <td>1102</td>\n",
              "      <td>1102</td>\n",
              "      <td>1102</td>\n",
              "    </tr>\n",
              "    <tr>\n",
              "      <th>very negative</th>\n",
              "      <td>32</td>\n",
              "      <td>32</td>\n",
              "      <td>32</td>\n",
              "      <td>32</td>\n",
              "      <td>32</td>\n",
              "      <td>32</td>\n",
              "      <td>32</td>\n",
              "      <td>32</td>\n",
              "      <td>32</td>\n",
              "      <td>32</td>\n",
              "      <td>32</td>\n",
              "    </tr>\n",
              "    <tr>\n",
              "      <th>very positive</th>\n",
              "      <td>86</td>\n",
              "      <td>86</td>\n",
              "      <td>86</td>\n",
              "      <td>86</td>\n",
              "      <td>86</td>\n",
              "      <td>86</td>\n",
              "      <td>86</td>\n",
              "      <td>86</td>\n",
              "      <td>86</td>\n",
              "      <td>86</td>\n",
              "      <td>86</td>\n",
              "    </tr>\n",
              "  </tbody>\n",
              "</table>\n",
              "</div>"
            ],
            "text/plain": [
              "                    subreddit  title  ...  in_reply_to  sentiment.subjectivity\n",
              "sentiment.polarity                    ...                                     \n",
              "negative                  282    282  ...          282                     282\n",
              "neutral                  2514   2514  ...         2514                    2514\n",
              "positive                 1102   1102  ...         1102                    1102\n",
              "very negative              32     32  ...           32                      32\n",
              "very positive              86     86  ...           86                      86\n",
              "\n",
              "[5 rows x 11 columns]"
            ]
          },
          "metadata": {
            "tags": []
          },
          "execution_count": 7
        }
      ]
    },
    {
      "cell_type": "code",
      "metadata": {
        "colab": {
          "base_uri": "https://localhost:8080/",
          "height": 255
        },
        "id": "btX3bKi2bTAi",
        "outputId": "fc104457-6965-4c80-8c76-0dc7af951d09"
      },
      "source": [
        "validation_data.groupby(by='sentiment.polarity').count()"
      ],
      "execution_count": null,
      "outputs": [
        {
          "output_type": "execute_result",
          "data": {
            "text/html": [
              "<div>\n",
              "<style scoped>\n",
              "    .dataframe tbody tr th:only-of-type {\n",
              "        vertical-align: middle;\n",
              "    }\n",
              "\n",
              "    .dataframe tbody tr th {\n",
              "        vertical-align: top;\n",
              "    }\n",
              "\n",
              "    .dataframe thead th {\n",
              "        text-align: right;\n",
              "    }\n",
              "</style>\n",
              "<table border=\"1\" class=\"dataframe\">\n",
              "  <thead>\n",
              "    <tr style=\"text-align: right;\">\n",
              "      <th></th>\n",
              "      <th>subreddit</th>\n",
              "      <th>title</th>\n",
              "      <th>id</th>\n",
              "      <th>url</th>\n",
              "      <th>author</th>\n",
              "      <th>body</th>\n",
              "      <th>majority_type</th>\n",
              "      <th>is_first_post</th>\n",
              "      <th>post_depth</th>\n",
              "      <th>in_reply_to</th>\n",
              "      <th>sentiment.subjectivity</th>\n",
              "    </tr>\n",
              "    <tr>\n",
              "      <th>sentiment.polarity</th>\n",
              "      <th></th>\n",
              "      <th></th>\n",
              "      <th></th>\n",
              "      <th></th>\n",
              "      <th></th>\n",
              "      <th></th>\n",
              "      <th></th>\n",
              "      <th></th>\n",
              "      <th></th>\n",
              "      <th></th>\n",
              "      <th></th>\n",
              "    </tr>\n",
              "  </thead>\n",
              "  <tbody>\n",
              "    <tr>\n",
              "      <th>negative</th>\n",
              "      <td>215</td>\n",
              "      <td>215</td>\n",
              "      <td>215</td>\n",
              "      <td>215</td>\n",
              "      <td>215</td>\n",
              "      <td>215</td>\n",
              "      <td>215</td>\n",
              "      <td>215</td>\n",
              "      <td>215</td>\n",
              "      <td>215</td>\n",
              "      <td>215</td>\n",
              "    </tr>\n",
              "    <tr>\n",
              "      <th>neutral</th>\n",
              "      <td>1961</td>\n",
              "      <td>1961</td>\n",
              "      <td>1961</td>\n",
              "      <td>1961</td>\n",
              "      <td>1961</td>\n",
              "      <td>1961</td>\n",
              "      <td>1961</td>\n",
              "      <td>1961</td>\n",
              "      <td>1961</td>\n",
              "      <td>1961</td>\n",
              "      <td>1961</td>\n",
              "    </tr>\n",
              "    <tr>\n",
              "      <th>positive</th>\n",
              "      <td>845</td>\n",
              "      <td>845</td>\n",
              "      <td>845</td>\n",
              "      <td>845</td>\n",
              "      <td>845</td>\n",
              "      <td>845</td>\n",
              "      <td>845</td>\n",
              "      <td>845</td>\n",
              "      <td>845</td>\n",
              "      <td>845</td>\n",
              "      <td>845</td>\n",
              "    </tr>\n",
              "    <tr>\n",
              "      <th>very negative</th>\n",
              "      <td>15</td>\n",
              "      <td>15</td>\n",
              "      <td>15</td>\n",
              "      <td>15</td>\n",
              "      <td>15</td>\n",
              "      <td>15</td>\n",
              "      <td>15</td>\n",
              "      <td>15</td>\n",
              "      <td>15</td>\n",
              "      <td>15</td>\n",
              "      <td>15</td>\n",
              "    </tr>\n",
              "    <tr>\n",
              "      <th>very positive</th>\n",
              "      <td>73</td>\n",
              "      <td>73</td>\n",
              "      <td>73</td>\n",
              "      <td>73</td>\n",
              "      <td>73</td>\n",
              "      <td>73</td>\n",
              "      <td>73</td>\n",
              "      <td>73</td>\n",
              "      <td>73</td>\n",
              "      <td>73</td>\n",
              "      <td>73</td>\n",
              "    </tr>\n",
              "  </tbody>\n",
              "</table>\n",
              "</div>"
            ],
            "text/plain": [
              "                    subreddit  title  ...  in_reply_to  sentiment.subjectivity\n",
              "sentiment.polarity                    ...                                     \n",
              "negative                  215    215  ...          215                     215\n",
              "neutral                  1961   1961  ...         1961                    1961\n",
              "positive                  845    845  ...          845                     845\n",
              "very negative              15     15  ...           15                      15\n",
              "very positive              73     73  ...           73                      73\n",
              "\n",
              "[5 rows x 11 columns]"
            ]
          },
          "metadata": {
            "tags": []
          },
          "execution_count": 8
        }
      ]
    },
    {
      "cell_type": "code",
      "metadata": {
        "id": "qAoSo_G5lCDS"
      },
      "source": [
        "#train_data.head(20)\n",
        "#validation_data.head(20)\n",
        "#test_data.head(10)"
      ],
      "execution_count": null,
      "outputs": []
    },
    {
      "cell_type": "code",
      "metadata": {
        "colab": {
          "base_uri": "https://localhost:8080/"
        },
        "id": "WkF0KeWiyKLP",
        "outputId": "b3293ca2-0570-45df-b7e5-665c143d33e7"
      },
      "source": [
        "import spacy\n",
        "\n",
        "# Load the medium english model. \n",
        "# We will use this model to get embedding features for tokens later.\n",
        "#!python -m spacy download en_core_web_md\n",
        "\n",
        "nlp = spacy.load('en_core_web_sm', disable=['ner'])\n",
        "nlp.remove_pipe('tagger')\n",
        "nlp.remove_pipe('parser')\n",
        "\n",
        "# Download a stopword list\n",
        "import nltk\n",
        "nltk.download('stopwords')"
      ],
      "execution_count": null,
      "outputs": [
        {
          "output_type": "stream",
          "text": [
            "[nltk_data] Downloading package stopwords to /root/nltk_data...\n",
            "[nltk_data]   Unzipping corpora/stopwords.zip.\n"
          ],
          "name": "stdout"
        },
        {
          "output_type": "execute_result",
          "data": {
            "text/plain": [
              "True"
            ]
          },
          "metadata": {
            "tags": []
          },
          "execution_count": 10
        }
      ]
    },
    {
      "cell_type": "markdown",
      "metadata": {
        "id": "sNqVlAZSlWjf"
      },
      "source": [
        "**Tokenization and Normalization**"
      ]
    },
    {
      "cell_type": "code",
      "metadata": {
        "id": "5fhLKxmDyV-Z"
      },
      "source": [
        "#Tokenize\n",
        "def spacy_tokenize(string):\n",
        "  tokens = list()\n",
        "  doc = nlp(string)\n",
        "  for token in doc:\n",
        "    tokens.append(token)\n",
        "  return tokens\n",
        "\n",
        "#Normalize\n",
        "def normalize(tokens):\n",
        "  normalized_tokens = list()\n",
        "  for token in tokens:\n",
        "    normalized = token.text.lower().strip()\n",
        "    if ((token.is_alpha or token.is_digit)):\n",
        "      normalized_tokens.append(normalized)\n",
        "  return normalized_tokens\n",
        "  return normalized_tokens\n",
        "\n",
        "#Tokenize and normalize\n",
        "def tokenize_normalize(string):\n",
        "  return normalize(spacy_tokenize(string))"
      ],
      "execution_count": null,
      "outputs": []
    },
    {
      "cell_type": "markdown",
      "metadata": {
        "id": "-ab5GzRnBQ8y"
      },
      "source": [
        "**Count Vectorizer**\n",
        "Count vectoriser is a basic vectoriser which takes every token (in this case a word) from our data and is turned into a feature. As a whole it converts a collection of text documents to a sparse matrix of token counts."
      ]
    },
    {
      "cell_type": "code",
      "metadata": {
        "id": "FuDT6hF4yd5r"
      },
      "source": [
        "from sklearn.feature_extraction.text import CountVectorizer\n",
        "\n",
        "# Pass in the tokenizer as the tokenizer to the vectorizer.\n",
        "# Create a one-hot encoding vectorizer.\n",
        "one_hot_vectorizer = CountVectorizer(tokenizer=tokenize_normalize, binary=True)\n",
        "train_features = one_hot_vectorizer.fit_transform(train_data['body'])\n",
        "\n",
        "# This creates input features for our classification on all subsets of our collection.\n",
        "validation_features = one_hot_vectorizer.transform(validation_data['body'])\n",
        "test_features = one_hot_vectorizer.transform(test_data['body'])"
      ],
      "execution_count": null,
      "outputs": []
    },
    {
      "cell_type": "markdown",
      "metadata": {
        "id": "w8BSwVxMlMyw"
      },
      "source": [
        "**Data Label**"
      ]
    },
    {
      "cell_type": "code",
      "metadata": {
        "id": "0zhjNYj3zYQO"
      },
      "source": [
        "train_labels = train_data['sentiment.polarity']\n",
        "validation_labels = validation_data['sentiment.polarity']\n",
        "test_labels = test_data['sentiment.polarity']\n"
      ],
      "execution_count": null,
      "outputs": []
    },
    {
      "cell_type": "markdown",
      "metadata": {
        "id": "jVGtQTE9lsPP"
      },
      "source": [
        "**Evaluation Metrics**"
      ]
    },
    {
      "cell_type": "code",
      "metadata": {
        "id": "5jl61JDN3M6_"
      },
      "source": [
        "from sklearn.metrics import classification_report\n",
        "from sklearn.metrics import confusion_matrix\n",
        "from sklearn.metrics import precision_score\n",
        "from sklearn.metrics import recall_score\n",
        "from sklearn.metrics import accuracy_score\n",
        "from sklearn.metrics import fbeta_score\n",
        "\n",
        "def evaluation_summary(description, predictions, true_labels):\n",
        "  print(\"Evaluation for: \" + description)\n",
        "  precision = precision_score(predictions, true_labels,average='macro')\n",
        "  recall = recall_score(predictions, true_labels,average='macro')\n",
        "  accuracy = accuracy_score(predictions, true_labels)\n",
        "  f1 = fbeta_score(predictions, true_labels, 1,average='weighted') #1 means f_1 measure\n",
        "  print(\"Classifier '%s' has Acc=%0.3f P=%0.3f R=%0.3f F1=%0.3f\" % (description,accuracy,precision,recall,f1))\n",
        "  print(classification_report(predictions, true_labels, digits=3, zero_division = 0))\n",
        "  \n",
        "  report=classification_report(predictions, true_labels, digits=3, zero_division = 0,output_dict=True)\n",
        "  df = pd.DataFrame(report).transpose()\n",
        "  #plt.bar(train_labels,df['f1-score'])\n",
        "  classes=[\"negative\",\"neutral\",\"positive\",\"very negative\",\"very positive\"]\n",
        "  f=df['f1-score'][:5]\n",
        " \n",
        "  print('\\nConfusion matrix:\\n',confusion_matrix(true_labels, predictions)) # Note the order here is true, predicted\n",
        " \n",
        "  plt.bar(classes,f)\n",
        "  plt.xlabel(\"Labels\")\n",
        "  plt.ylabel(\"F1-Score\")\n",
        "\n",
        "  \n",
        "  df1 = pd.DataFrame({'Precision':df['precision'][:5],\n",
        "                     'Recall':df['recall'][:5],\n",
        "                     'F1':df['f1-score'][:5]\n",
        "  },\n",
        "                     \n",
        "                     index = [\"negative\",\"neutral\",\"positive\",\"very negative\",\"very positive\"])\n",
        "  \n",
        "  df1.plot.bar()\n",
        "  plt.title('Performance Analysis')\n",
        "  plt.ylabel('Performance Metrics')\n",
        "  plt.xlabel('Classes')\n",
        "  plt.show()\n",
        "  \n"
      ],
      "execution_count": null,
      "outputs": []
    },
    {
      "cell_type": "markdown",
      "metadata": {
        "id": "U5YVF5D0l5le"
      },
      "source": [
        "**LR with One Hot vectorization**"
      ]
    },
    {
      "cell_type": "code",
      "metadata": {
        "id": "zRb0OZkrlzrB",
        "colab": {
          "base_uri": "https://localhost:8080/",
          "height": 973
        },
        "outputId": "382f8ff9-3373-498c-f718-9a0fd8a8dfa1"
      },
      "source": [
        "from sklearn.linear_model import LogisticRegression\n",
        "lr = LogisticRegression(solver='saga', max_iter = 1000)\n",
        "lr_model = lr.fit(train_features, train_labels)\n",
        "validation_predicted_labels = lr_model.predict(validation_features)\n",
        "evaluation_summary(\"One-hot LR\",  validation_predicted_labels, validation_labels)"
      ],
      "execution_count": null,
      "outputs": [
        {
          "output_type": "stream",
          "text": [
            "Evaluation for: One-hot LR\n",
            "Classifier 'One-hot LR' has Acc=0.752 P=0.461 R=0.633 F1=0.766\n",
            "               precision    recall  f1-score   support\n",
            "\n",
            "     negative      0.260     0.519     0.347       108\n",
            "      neutral      0.883     0.781     0.829      2215\n",
            "     positive      0.619     0.702     0.658       745\n",
            "very negative      0.200     0.429     0.273         7\n",
            "very positive      0.342     0.735     0.467        34\n",
            "\n",
            "     accuracy                          0.752      3109\n",
            "    macro avg      0.461     0.633     0.515      3109\n",
            " weighted avg      0.790     0.752     0.766      3109\n",
            "\n",
            "\n",
            "Confusion matrix:\n",
            " [[  56  151    7    1    0]\n",
            " [  46 1731  176    3    5]\n",
            " [   5  313  523    0    4]\n",
            " [   1   11    0    3    0]\n",
            " [   0    9   39    0   25]]\n"
          ],
          "name": "stdout"
        },
        {
          "output_type": "display_data",
          "data": {
            "image/png": "[encoded data removed]",
            "text/plain": [
              "<Figure size 432x288 with 1 Axes>"
            ]
          },
          "metadata": {
            "tags": [],
            "needs_background": "light"
          }
        },
        {
          "output_type": "display_data",
          "data": {
            "image/png": "[encoded data removed]",
            "text/plain": [
              "<Figure size 432x288 with 1 Axes>"
            ]
          },
          "metadata": {
            "tags": [],
            "needs_background": "light"
          }
        }
      ]
    },
    {
      "cell_type": "markdown",
      "metadata": {
        "id": "g4luXYMFBpw6"
      },
      "source": [
        "**Dummy Classifer with Strategy-'most_frequent'**"
      ]
    },
    {
      "cell_type": "code",
      "metadata": {
        "colab": {
          "base_uri": "https://localhost:8080/",
          "height": 1000
        },
        "id": "vItEBy05gSaD",
        "outputId": "b6d9c5c9-a2bb-45b2-d03d-aa1ab5b12e86"
      },
      "source": [
        "from sklearn.dummy import DummyClassifier\n",
        "dummy_mf = DummyClassifier(strategy='most_frequent')\n",
        "dummy_mf.fit(train_features, train_labels)\n",
        "print(dummy_mf.score(validation_features, validation_labels))\n",
        "evaluation_summary(\"Dummy Majority\", dummy_mf.predict(validation_features), validation_labels)\n"
      ],
      "execution_count": null,
      "outputs": [
        {
          "output_type": "stream",
          "text": [
            "0.6307494371180444\n",
            "Evaluation for: Dummy Majority\n",
            "Classifier 'Dummy Majority' has Acc=0.631 P=0.200 R=0.126 F1=0.774\n",
            "               precision    recall  f1-score   support\n",
            "\n",
            "     negative      0.000     0.000     0.000         0\n",
            "      neutral      1.000     0.631     0.774      3109\n",
            "     positive      0.000     0.000     0.000         0\n",
            "very negative      0.000     0.000     0.000         0\n",
            "very positive      0.000     0.000     0.000         0\n",
            "\n",
            "     accuracy                          0.631      3109\n",
            "    macro avg      0.200     0.126     0.155      3109\n",
            " weighted avg      1.000     0.631     0.774      3109\n",
            "\n",
            "\n",
            "Confusion matrix:\n",
            " [[   0  215    0    0    0]\n",
            " [   0 1961    0    0    0]\n",
            " [   0  845    0    0    0]\n",
            " [   0   15    0    0    0]\n",
            " [   0   73    0    0    0]]\n"
          ],
          "name": "stdout"
        },
        {
          "output_type": "stream",
          "text": [
            "/usr/local/lib/python3.7/dist-packages/sklearn/metrics/_classification.py:1272: UndefinedMetricWarning: Recall is ill-defined and being set to 0.0 in labels with no true samples. Use `zero_division` parameter to control this behavior.\n",
            "  _warn_prf(average, modifier, msg_start, len(result))\n"
          ],
          "name": "stderr"
        },
        {
          "output_type": "display_data",
          "data": {
            "image/png": "[encoded data removed]",
            "text/plain": [
              "<Figure size 432x288 with 1 Axes>"
            ]
          },
          "metadata": {
            "tags": [],
            "needs_background": "light"
          }
        },
        {
          "output_type": "display_data",
          "data": {
            "image/png": "[encoded data removed]",
            "text/plain": [
              "<Figure size 432x288 with 1 Axes>"
            ]
          },
          "metadata": {
            "tags": [],
            "needs_background": "light"
          }
        }
      ]
    },
    {
      "cell_type": "markdown",
      "metadata": {
        "id": "6EboYorEBcdq"
      },
      "source": [
        "**Dummy Classifer with Strategy-'Stratified'**"
      ]
    },
    {
      "cell_type": "code",
      "metadata": {
        "id": "oURRQIEygSLL",
        "colab": {
          "base_uri": "https://localhost:8080/",
          "height": 990
        },
        "outputId": "fd3f96ac-81b6-45a1-af88-1b00759da204"
      },
      "source": [
        "dummy_prior = DummyClassifier(strategy='stratified')\n",
        "dummy_prior.fit(train_features, train_labels)\n",
        "print(dummy_prior.score(validation_features, validation_labels))\n",
        "evaluation_summary(\"Dummy Prior\", dummy_prior.predict(validation_features), validation_labels)\n"
      ],
      "execution_count": null,
      "outputs": [
        {
          "output_type": "stream",
          "text": [
            "0.4808620135091669\n",
            "Evaluation for: Dummy Prior\n",
            "Classifier 'Dummy Prior' has Acc=0.471 P=0.190 R=0.190 F1=0.470\n",
            "               precision    recall  f1-score   support\n",
            "\n",
            "     negative      0.065     0.058     0.061       243\n",
            "      neutral      0.629     0.629     0.629      1963\n",
            "     positive      0.254     0.263     0.259       816\n",
            "very negative      0.000     0.000     0.000        23\n",
            "very positive      0.000     0.000     0.000        64\n",
            "\n",
            "     accuracy                          0.471      3109\n",
            "    macro avg      0.190     0.190     0.190      3109\n",
            " weighted avg      0.469     0.471     0.470      3109\n",
            "\n",
            "\n",
            "Confusion matrix:\n",
            " [[  14  140   53    5    3]\n",
            " [ 143 1234  530   14   40]\n",
            " [  77  529  215    4   20]\n",
            " [   2   10    2    0    1]\n",
            " [   7   50   16    0    0]]\n"
          ],
          "name": "stdout"
        },
        {
          "output_type": "display_data",
          "data": {
            "image/png": "[encoded data removed]",
            "text/plain": [
              "<Figure size 432x288 with 1 Axes>"
            ]
          },
          "metadata": {
            "tags": [],
            "needs_background": "light"
          }
        },
        {
          "output_type": "display_data",
          "data": {
            "image/png": "[encoded data removed]",
            "text/plain": [
              "<Figure size 432x288 with 1 Axes>"
            ]
          },
          "metadata": {
            "tags": [],
            "needs_background": "light"
          }
        }
      ]
    },
    {
      "cell_type": "markdown",
      "metadata": {
        "id": "yo4YAw1EBAAU"
      },
      "source": [
        "**SVC Classifer with One Hot** **vectorization**"
      ]
    },
    {
      "cell_type": "code",
      "metadata": {
        "id": "91dW9X8f8g6a",
        "colab": {
          "base_uri": "https://localhost:8080/",
          "height": 1000
        },
        "outputId": "a89117af-5859-484d-d666-ecfbe2aac6b9"
      },
      "source": [
        "from sklearn.svm import SVC\n",
        "clf = SVC(kernel='rbf')\n",
        "svm_model=clf.fit(train_features, train_labels)\n",
        "validation_predicted_labels = clf.predict(validation_features)\n",
        "evaluation_summary(\"One-hot SVC\",  validation_predicted_labels, validation_labels)"
      ],
      "execution_count": null,
      "outputs": [
        {
          "output_type": "stream",
          "text": [
            "Evaluation for: One-hot SVC\n",
            "Classifier 'One-hot SVC' has Acc=0.722 P=0.285 R=0.423 F1=0.773\n",
            "               precision    recall  f1-score   support\n",
            "\n",
            "     negative      0.019     0.667     0.036         6\n",
            "      neutral      0.944     0.721     0.818      2567\n",
            "     positive      0.463     0.729     0.566       536\n",
            "very negative      0.000     0.000     0.000         0\n",
            "very positive      0.000     0.000     0.000         0\n",
            "\n",
            "     accuracy                          0.722      3109\n",
            "    macro avg      0.285     0.423     0.284      3109\n",
            " weighted avg      0.859     0.722     0.773      3109\n",
            "\n",
            "\n",
            "Confusion matrix:\n",
            " [[   4  208    3    0    0]\n",
            " [   1 1851  109    0    0]\n",
            " [   1  453  391    0    0]\n",
            " [   0   15    0    0    0]\n",
            " [   0   40   33    0    0]]\n"
          ],
          "name": "stdout"
        },
        {
          "output_type": "stream",
          "text": [
            "/usr/local/lib/python3.7/dist-packages/sklearn/metrics/_classification.py:1272: UndefinedMetricWarning: Recall is ill-defined and being set to 0.0 in labels with no true samples. Use `zero_division` parameter to control this behavior.\n",
            "  _warn_prf(average, modifier, msg_start, len(result))\n"
          ],
          "name": "stderr"
        },
        {
          "output_type": "display_data",
          "data": {
            "image/png": "[encoded data removed]",
            "text/plain": [
              "<Figure size 432x288 with 1 Axes>"
            ]
          },
          "metadata": {
            "tags": [],
            "needs_background": "light"
          }
        },
        {
          "output_type": "display_data",
          "data": {
            "image/png": "[encoded data removed]",
            "text/plain": [
              "<Figure size 432x288 with 1 Axes>"
            ]
          },
          "metadata": {
            "tags": [],
            "needs_background": "light"
          }
        }
      ]
    },
    {
      "cell_type": "markdown",
      "metadata": {
        "id": "tF03Jdr6v-Pd"
      },
      "source": [
        "**Naive Bayes with One hot vectorization**"
      ]
    },
    {
      "cell_type": "code",
      "metadata": {
        "id": "MPo1DxvWBbTK",
        "colab": {
          "base_uri": "https://localhost:8080/",
          "height": 1000
        },
        "outputId": "93e01009-64fd-484d-f250-6727d438432f"
      },
      "source": [
        "from sklearn.naive_bayes import BernoulliNB\n",
        "classifier = BernoulliNB()\n",
        "nb_model = classifier.fit(train_features, train_labels)\n",
        "validation_predicted_labels = nb_model.predict(validation_features)\n",
        "evaluation_summary(\"One-hot NB\",  validation_predicted_labels, validation_labels)"
      ],
      "execution_count": null,
      "outputs": [
        {
          "output_type": "stream",
          "text": [
            "Evaluation for: One-hot NB\n",
            "Classifier 'One-hot NB' has Acc=0.635 P=0.224 R=0.234 F1=0.712\n",
            "               precision    recall  f1-score   support\n",
            "\n",
            "     negative      0.000     0.000     0.000         3\n",
            "      neutral      0.922     0.651     0.763      2779\n",
            "     positive      0.198     0.517     0.286       323\n",
            "very negative      0.000     0.000     0.000         4\n",
            "very positive      0.000     0.000     0.000         0\n",
            "\n",
            "     accuracy                          0.635      3109\n",
            "    macro avg      0.224     0.234     0.210      3109\n",
            " weighted avg      0.845     0.635     0.712      3109\n",
            "\n",
            "\n",
            "Confusion matrix:\n",
            " [[   0  213    2    0    0]\n",
            " [   3 1808  147    3    0]\n",
            " [   0  677  167    1    0]\n",
            " [   0   15    0    0    0]\n",
            " [   0   66    7    0    0]]\n"
          ],
          "name": "stdout"
        },
        {
          "output_type": "stream",
          "text": [
            "/usr/local/lib/python3.7/dist-packages/sklearn/metrics/_classification.py:1272: UndefinedMetricWarning: Recall is ill-defined and being set to 0.0 in labels with no true samples. Use `zero_division` parameter to control this behavior.\n",
            "  _warn_prf(average, modifier, msg_start, len(result))\n"
          ],
          "name": "stderr"
        },
        {
          "output_type": "display_data",
          "data": {
            "image/png": "[encoded data removed]",
            "text/plain": [
              "<Figure size 432x288 with 1 Axes>"
            ]
          },
          "metadata": {
            "tags": [],
            "needs_background": "light"
          }
        },
        {
          "output_type": "display_data",
          "data": {
            "image/png": "[encoded data removed]",
            "text/plain": [
              "<Figure size 432x288 with 1 Axes>"
            ]
          },
          "metadata": {
            "tags": [],
            "needs_background": "light"
          }
        }
      ]
    },
    {
      "cell_type": "code",
      "metadata": {
        "colab": {
          "base_uri": "https://localhost:8080/"
        },
        "id": "uOhAkUh81dfz",
        "outputId": "94a680ca-5a7c-44eb-dbb8-c1e2a46f2f0e"
      },
      "source": [
        "print(nb_model.score(train_features, train_labels))\n",
        "print(svm_model.score(train_features, train_labels))\n",
        "print(lr_model.score(train_features, train_labels))"
      ],
      "execution_count": null,
      "outputs": [
        {
          "output_type": "stream",
          "text": [
            "0.7440270225737354\n",
            "0.8627450980392157\n",
            "0.9621848739495799\n"
          ],
          "name": "stdout"
        }
      ]
    },
    {
      "cell_type": "code",
      "metadata": {
        "colab": {
          "base_uri": "https://localhost:8080/"
        },
        "id": "mPnfpbON2WvX",
        "outputId": "be3eb030-8647-45f7-ef92-db656765ce59"
      },
      "source": [
        "print(lr_model.score(validation_features, validation_labels))\n",
        "print(svm_model.score(validation_features, validation_labels))\n",
        "print(nb_model.score(validation_features, validation_labels))"
      ],
      "execution_count": null,
      "outputs": [
        {
          "output_type": "stream",
          "text": [
            "0.752010292698617\n",
            "0.7224187841749758\n",
            "0.6352524927629463\n"
          ],
          "name": "stdout"
        }
      ]
    },
    {
      "cell_type": "markdown",
      "metadata": {
        "id": "wucoVMzS3bWt"
      },
      "source": [
        "**Logistic Regression with TF-IDF Vectorization**"
      ]
    },
    {
      "cell_type": "code",
      "metadata": {
        "id": "Ne0JRRvXgR4j",
        "colab": {
          "base_uri": "https://localhost:8080/",
          "height": 1000
        },
        "outputId": "d52fce54-63d2-4a59-de3f-aea7911881a6"
      },
      "source": [
        "from sklearn.feature_extraction.text import TfidfVectorizer\n",
        "TFIDF_Vectoriser=TfidfVectorizer( binary=True)#,sublinear_tf = True, max_features = 50000) \n",
        "train_features_TFIDF = TFIDF_Vectoriser.fit_transform(train_data['body'])\n",
        "# This creates input features for our classification on all subsets of our collection.\n",
        "validation_features_TFIDF = TFIDF_Vectoriser.transform(validation_data['body'])\n",
        "test_features_TFIDF = TFIDF_Vectoriser.transform(test_data['body'])\n",
        "lr_tfidf = LogisticRegression(solver='lbfgs', max_iter = 100,penalty='l2')\n",
        "lr_model1 = lr_tfidf.fit(train_features_TFIDF, train_labels)\n",
        "validation_predicted_labels = lr_model1.predict(validation_features_TFIDF)\n",
        "evaluation_summary(\"TF-IDF LR\",  validation_predicted_labels, validation_labels)"
      ],
      "execution_count": null,
      "outputs": [
        {
          "output_type": "stream",
          "text": [
            "/usr/local/lib/python3.7/dist-packages/sklearn/linear_model/_logistic.py:940: ConvergenceWarning: lbfgs failed to converge (status=1):\n",
            "STOP: TOTAL NO. of ITERATIONS REACHED LIMIT.\n",
            "\n",
            "Increase the number of iterations (max_iter) or scale the data as shown in:\n",
            "    https://scikit-learn.org/stable/modules/preprocessing.html\n",
            "Please also refer to the documentation for alternative solver options:\n",
            "    https://scikit-learn.org/stable/modules/linear_model.html#logistic-regression\n",
            "  extra_warning_msg=_LOGISTIC_SOLVER_CONVERGENCE_MSG)\n",
            "/usr/local/lib/python3.7/dist-packages/sklearn/metrics/_classification.py:1272: UndefinedMetricWarning: Recall is ill-defined and being set to 0.0 in labels with no true samples. Use `zero_division` parameter to control this behavior.\n",
            "  _warn_prf(average, modifier, msg_start, len(result))\n"
          ],
          "name": "stderr"
        },
        {
          "output_type": "stream",
          "text": [
            "Evaluation for: TF-IDF LR\n",
            "Classifier 'TF-IDF LR' has Acc=0.727 P=0.321 R=0.582 F1=0.765\n",
            "               precision    recall  f1-score   support\n",
            "\n",
            "     negative      0.098     0.700     0.171        30\n",
            "      neutral      0.929     0.733     0.819      2486\n",
            "     positive      0.484     0.700     0.572       584\n",
            "very negative      0.000     0.000     0.000         0\n",
            "very positive      0.096     0.778     0.171         9\n",
            "\n",
            "     accuracy                          0.727      3109\n",
            "    macro avg      0.321     0.582     0.347      3109\n",
            " weighted avg      0.835     0.727     0.765      3109\n",
            "\n",
            "\n",
            "Confusion matrix:\n",
            " [[  21  188    6    0    0]\n",
            " [   6 1822  132    0    1]\n",
            " [   1  434  409    0    1]\n",
            " [   2   13    0    0    0]\n",
            " [   0   29   37    0    7]]\n"
          ],
          "name": "stdout"
        },
        {
          "output_type": "display_data",
          "data": {
            "image/png": "[encoded data removed]",
            "text/plain": [
              "<Figure size 432x288 with 1 Axes>"
            ]
          },
          "metadata": {
            "tags": [],
            "needs_background": "light"
          }
        },
        {
          "output_type": "display_data",
          "data": {
            "image/png": "[encoded data removed]",
            "text/plain": [
              "<Figure size 432x288 with 1 Axes>"
            ]
          },
          "metadata": {
            "tags": [],
            "needs_background": "light"
          }
        }
      ]
    },
    {
      "cell_type": "markdown",
      "metadata": {
        "id": "Yv-RsR0VucCq"
      },
      "source": [
        "**`Parameter** **Tuning** **(LR with TF-IDF)**"
      ]
    },
    {
      "cell_type": "markdown",
      "metadata": {
        "id": "VmXzlYbAwofU"
      },
      "source": [
        "Case 1: sublinear_tf = False"
      ]
    },
    {
      "cell_type": "code",
      "metadata": {
        "colab": {
          "base_uri": "https://localhost:8080/",
          "height": 1000
        },
        "id": "wplobRMzurrR",
        "outputId": "28796df5-5536-467c-8f83-20c85421a33e"
      },
      "source": [
        "TFIDF_Vectoriser=TfidfVectorizer( binary=True,sublinear_tf = False,max_features=50000) \n",
        "train_features_TFIDF = TFIDF_Vectoriser.fit_transform(train_data['body'])\n",
        "# This creates input features for our classification on all subsets of our collection.\n",
        "validation_features_TFIDF = TFIDF_Vectoriser.transform(validation_data['body'])\n",
        "test_features_TFIDF = TFIDF_Vectoriser.transform(test_data['body'])\n",
        "lr_tfidf = LogisticRegression(solver='saga', max_iter = 1000)\n",
        "lr_model1 = lr_tfidf.fit(train_features_TFIDF, train_labels)\n",
        "test_predicted_labels1 = lr_model1.predict(test_features_TFIDF)\n",
        "evaluation_summary(\"TF-IDF LR\",  test_predicted_labels1, test_labels)\n"
      ],
      "execution_count": null,
      "outputs": [
        {
          "output_type": "stream",
          "text": [
            "Evaluation for: TF-IDF LR\n",
            "Classifier 'TF-IDF LR' has Acc=0.734 P=0.324 R=0.596 F1=0.772\n",
            "               precision    recall  f1-score   support\n",
            "\n",
            "     negative      0.096     0.659     0.167        41\n",
            "      neutral      0.932     0.737     0.823      3178\n",
            "     positive      0.521     0.727     0.607       790\n",
            "very negative      0.000     0.000     0.000         0\n",
            "very positive      0.070     0.857     0.129         7\n",
            "\n",
            "     accuracy                          0.734      4016\n",
            "    macro avg      0.324     0.596     0.345      4016\n",
            " weighted avg      0.841     0.734     0.772      4016\n",
            "\n"
          ],
          "name": "stdout"
        },
        {
          "output_type": "stream",
          "text": [
            "/usr/local/lib/python3.7/dist-packages/sklearn/metrics/_classification.py:1272: UndefinedMetricWarning: Recall is ill-defined and being set to 0.0 in labels with no true samples. Use `zero_division` parameter to control this behavior.\n",
            "  _warn_prf(average, modifier, msg_start, len(result))\n"
          ],
          "name": "stderr"
        },
        {
          "output_type": "stream",
          "text": [
            "\n",
            "Confusion matrix:\n",
            " [[  27  247    8    0    0]\n",
            " [  10 2342  162    0    0]\n",
            " [   0  527  574    0    1]\n",
            " [   4   28    0    0    0]\n",
            " [   0   34   46    0    6]]\n"
          ],
          "name": "stdout"
        },
        {
          "output_type": "display_data",
          "data": {
            "image/png": "[encoded data removed]",
            "text/plain": [
              "<Figure size 432x288 with 1 Axes>"
            ]
          },
          "metadata": {
            "tags": [],
            "needs_background": "light"
          }
        },
        {
          "output_type": "display_data",
          "data": {
            "image/png": "[encoded data removed]",
            "text/plain": [
              "<Figure size 432x288 with 1 Axes>"
            ]
          },
          "metadata": {
            "tags": [],
            "needs_background": "light"
          }
        }
      ]
    },
    {
      "cell_type": "markdown",
      "metadata": {
        "id": "6vkloos0wsq2"
      },
      "source": [
        "Just changing max_iter for LR did not show much result.\n",
        "Case 2 Changing max_iter =5000 and solver='newton-cg'"
      ]
    },
    {
      "cell_type": "code",
      "metadata": {
        "colab": {
          "base_uri": "https://localhost:8080/",
          "height": 973
        },
        "id": "o2u-cRHswzQV",
        "outputId": "6844119e-fc42-4060-9f48-233248b92fdc"
      },
      "source": [
        "TFIDF_Vectoriser=TfidfVectorizer( binary=True,sublinear_tf = True, max_features = 5000) \n",
        "train_features_TFIDF = TFIDF_Vectoriser.fit_transform(train_data['body'])\n",
        "# This creates input features for our classification on all subsets of our collection.\n",
        "validation_features_TFIDF = TFIDF_Vectoriser.transform(validation_data['body'])\n",
        "test_features_TFIDF = TFIDF_Vectoriser.transform(test_data['body'])\n",
        "lr_tfidf = LogisticRegression(solver='newton-cg', max_iter = 1000)\n",
        "lr_model1 = lr_tfidf.fit(train_features_TFIDF, train_labels)\n",
        "test_predicted_labels1 = lr_model1.predict(test_features_TFIDF)\n",
        "evaluation_summary(\"TF-IDF LR\",  test_predicted_labels1, test_labels)"
      ],
      "execution_count": null,
      "outputs": [
        {
          "output_type": "stream",
          "text": [
            "Evaluation for: TF-IDF LR\n",
            "Classifier 'TF-IDF LR' has Acc=0.745 P=0.343 R=0.811 F1=0.781\n",
            "               precision    recall  f1-score   support\n",
            "\n",
            "     negative      0.106     0.682     0.184        44\n",
            "      neutral      0.933     0.748     0.830      3137\n",
            "     positive      0.553     0.738     0.632       825\n",
            "very negative      0.031     1.000     0.061         1\n",
            "very positive      0.093     0.889     0.168         9\n",
            "\n",
            "     accuracy                          0.745      4016\n",
            "    macro avg      0.343     0.811     0.375      4016\n",
            " weighted avg      0.844     0.745     0.781      4016\n",
            "\n",
            "\n",
            "Confusion matrix:\n",
            " [[  30  241   11    0    0]\n",
            " [  11 2345  158    0    0]\n",
            " [   0  492  609    0    1]\n",
            " [   3   28    0    1    0]\n",
            " [   0   31   47    0    8]]\n"
          ],
          "name": "stdout"
        },
        {
          "output_type": "display_data",
          "data": {
            "image/png": "[encoded data removed]",
            "text/plain": [
              "<Figure size 432x288 with 1 Axes>"
            ]
          },
          "metadata": {
            "tags": [],
            "needs_background": "light"
          }
        },
        {
          "output_type": "display_data",
          "data": {
            "image/png": "[encoded data removed]",
            "text/plain": [
              "<Figure size 432x288 with 1 Axes>"
            ]
          },
          "metadata": {
            "tags": [],
            "needs_background": "light"
          }
        }
      ]
    },
    {
      "cell_type": "code",
      "metadata": {
        "colab": {
          "base_uri": "https://localhost:8080/",
          "height": 973
        },
        "id": "JdUp_tiRxlBG",
        "outputId": "57cbddea-97d9-4ef6-f496-0c40fdbbc9e4"
      },
      "source": [
        "TFIDF_Vectoriser=TfidfVectorizer( binary=True,sublinear_tf = True, max_features = 1000) \n",
        "train_features_TFIDF = TFIDF_Vectoriser.fit_transform(train_data['body'])\n",
        "# This creates input features for our classification on all subsets of our collection.\n",
        "validation_features_TFIDF = TFIDF_Vectoriser.transform(validation_data['body'])\n",
        "test_features_TFIDF = TFIDF_Vectoriser.transform(test_data['body'])\n",
        "lr_tfidf = LogisticRegression(solver='newton-cg', max_iter = 1000)\n",
        "lr_model1 = lr_tfidf.fit(train_features_TFIDF, train_labels)\n",
        "test_predicted_labels1 = lr_model1.predict(test_features_TFIDF)\n",
        "evaluation_summary(\"TF-IDF LR\",  test_predicted_labels1, test_labels)"
      ],
      "execution_count": null,
      "outputs": [
        {
          "output_type": "stream",
          "text": [
            "Evaluation for: TF-IDF LR\n",
            "Classifier 'TF-IDF LR' has Acc=0.749 P=0.367 R=0.779 F1=0.779\n",
            "               precision    recall  f1-score   support\n",
            "\n",
            "     negative      0.117     0.559     0.194        59\n",
            "      neutral      0.923     0.753     0.830      3079\n",
            "     positive      0.577     0.741     0.649       858\n",
            "very negative      0.031     1.000     0.061         1\n",
            "very positive      0.186     0.842     0.305        19\n",
            "\n",
            "     accuracy                          0.749      4016\n",
            "    macro avg      0.367     0.779     0.408      4016\n",
            " weighted avg      0.833     0.749     0.779      4016\n",
            "\n",
            "\n",
            "Confusion matrix:\n",
            " [[  33  238   11    0    0]\n",
            " [  20 2320  171    0    3]\n",
            " [   2  464  636    0    0]\n",
            " [   4   27    0    1    0]\n",
            " [   0   30   40    0   16]]\n"
          ],
          "name": "stdout"
        },
        {
          "output_type": "display_data",
          "data": {
            "image/png": "[encoded data removed]",
            "text/plain": [
              "<Figure size 432x288 with 1 Axes>"
            ]
          },
          "metadata": {
            "tags": [],
            "needs_background": "light"
          }
        },
        {
          "output_type": "display_data",
          "data": {
            "image/png": "[encoded data removed]",
            "text/plain": [
              "<Figure size 432x288 with 1 Axes>"
            ]
          },
          "metadata": {
            "tags": [],
            "needs_background": "light"
          }
        }
      ]
    },
    {
      "cell_type": "markdown",
      "metadata": {
        "id": "aNA_iQVhyG6X"
      },
      "source": [
        "Case 3. Max features=NONE"
      ]
    },
    {
      "cell_type": "code",
      "metadata": {
        "colab": {
          "base_uri": "https://localhost:8080/",
          "height": 1000
        },
        "id": "a2Ou__GOxyZA",
        "outputId": "92bc8068-0e6f-464e-fe9b-abedd38960da"
      },
      "source": [
        "TFIDF_Vectoriser=TfidfVectorizer( binary=True,sublinear_tf = True, max_features = None) \n",
        "train_features_TFIDF = TFIDF_Vectoriser.fit_transform(train_data['body'])\n",
        "# This creates input features for our classification on all subsets of our collection.\n",
        "validation_features_TFIDF = TFIDF_Vectoriser.transform(validation_data['body'])\n",
        "test_features_TFIDF = TFIDF_Vectoriser.transform(test_data['body'])\n",
        "lr_tfidf = LogisticRegression(solver='saga', max_iter = 1000)\n",
        "lr_model1 = lr_tfidf.fit(train_features_TFIDF, train_labels)\n",
        "test_predicted_labels1 = lr_model1.predict(test_features_TFIDF)\n",
        "evaluation_summary(\"TF-IDF LR\",  test_predicted_labels1, test_labels)"
      ],
      "execution_count": null,
      "outputs": [
        {
          "output_type": "stream",
          "text": [
            "Evaluation for: TF-IDF LR\n",
            "Classifier 'TF-IDF LR' has Acc=0.734 P=0.324 R=0.596 F1=0.772\n",
            "               precision    recall  f1-score   support\n",
            "\n",
            "     negative      0.096     0.659     0.167        41\n",
            "      neutral      0.932     0.737     0.823      3178\n",
            "     positive      0.521     0.727     0.607       790\n",
            "very negative      0.000     0.000     0.000         0\n",
            "very positive      0.070     0.857     0.129         7\n",
            "\n",
            "     accuracy                          0.734      4016\n",
            "    macro avg      0.324     0.596     0.345      4016\n",
            " weighted avg      0.841     0.734     0.772      4016\n",
            "\n"
          ],
          "name": "stdout"
        },
        {
          "output_type": "stream",
          "text": [
            "/usr/local/lib/python3.7/dist-packages/sklearn/metrics/_classification.py:1272: UndefinedMetricWarning: Recall is ill-defined and being set to 0.0 in labels with no true samples. Use `zero_division` parameter to control this behavior.\n",
            "  _warn_prf(average, modifier, msg_start, len(result))\n"
          ],
          "name": "stderr"
        },
        {
          "output_type": "stream",
          "text": [
            "\n",
            "Confusion matrix:\n",
            " [[  27  247    8    0    0]\n",
            " [  10 2342  162    0    0]\n",
            " [   0  527  574    0    1]\n",
            " [   4   28    0    0    0]\n",
            " [   0   34   46    0    6]]\n"
          ],
          "name": "stdout"
        },
        {
          "output_type": "display_data",
          "data": {
            "image/png": "[encoded data removed]",
            "text/plain": [
              "<Figure size 432x288 with 1 Axes>"
            ]
          },
          "metadata": {
            "tags": [],
            "needs_background": "light"
          }
        },
        {
          "output_type": "display_data",
          "data": {
            "image/png": "[encoded data removed]",
            "text/plain": [
              "<Figure size 432x288 with 1 Axes>"
            ]
          },
          "metadata": {
            "tags": [],
            "needs_background": "light"
          }
        }
      ]
    },
    {
      "cell_type": "code",
      "metadata": {
        "colab": {
          "base_uri": "https://localhost:8080/",
          "height": 973
        },
        "id": "PIPA9aIJyL6Q",
        "outputId": "304616d3-04e2-4dd5-c83b-59268b6ec7b5"
      },
      "source": [
        "TFIDF_Vectoriser=TfidfVectorizer( binary=True,sublinear_tf = True, max_features = 5000) \n",
        "train_features_TFIDF = TFIDF_Vectoriser.fit_transform(train_data['body'])\n",
        "# This creates input features for our classification on all subsets of our collection.\n",
        "validation_features_TFIDF = TFIDF_Vectoriser.transform(validation_data['body'])\n",
        "test_features_TFIDF = TFIDF_Vectoriser.transform(test_data['body'])\n",
        "lr_tfidf = LogisticRegression(solver='saga', max_iter = 10000,C=1000.0)\n",
        "lr_model1 = lr_tfidf.fit(train_features_TFIDF, train_labels)\n",
        "test_predicted_labels1 = lr_model1.predict(test_features_TFIDF)\n",
        "evaluation_summary(\"TF-IDF LR\",  test_predicted_labels1, test_labels)"
      ],
      "execution_count": null,
      "outputs": [
        {
          "output_type": "stream",
          "text": [
            "Evaluation for: TF-IDF LR\n",
            "Classifier 'TF-IDF LR' has Acc=0.719 P=0.506 R=0.516 F1=0.721\n",
            "               precision    recall  f1-score   support\n",
            "\n",
            "     negative      0.383     0.452     0.415       239\n",
            "      neutral      0.801     0.795     0.798      2533\n",
            "     positive      0.662     0.646     0.654      1129\n",
            "very negative      0.406     0.394     0.400        33\n",
            "very positive      0.279     0.293     0.286        82\n",
            "\n",
            "     accuracy                          0.719      4016\n",
            "    macro avg      0.506     0.516     0.510      4016\n",
            " weighted avg      0.723     0.719     0.721      4016\n",
            "\n",
            "\n",
            "Confusion matrix:\n",
            " [[ 108  154   12    6    2]\n",
            " [ 114 2014  342   13   31]\n",
            " [  12  335  729    1   25]\n",
            " [   5   13    1   13    0]\n",
            " [   0   17   45    0   24]]\n"
          ],
          "name": "stdout"
        },
        {
          "output_type": "display_data",
          "data": {
            "image/png": "[encoded data removed]",
            "text/plain": [
              "<Figure size 432x288 with 1 Axes>"
            ]
          },
          "metadata": {
            "tags": [],
            "needs_background": "light"
          }
        },
        {
          "output_type": "display_data",
          "data": {
            "image/png": "[encoded data removed]",
            "text/plain": [
              "<Figure size 432x288 with 1 Axes>"
            ]
          },
          "metadata": {
            "tags": [],
            "needs_background": "light"
          }
        }
      ]
    },
    {
      "cell_type": "markdown",
      "metadata": {
        "id": "ptwSeI1sPrXf"
      },
      "source": [
        "**Adding Vectorization parameter \"norm='l1\"**"
      ]
    },
    {
      "cell_type": "code",
      "metadata": {
        "colab": {
          "base_uri": "https://localhost:8080/",
          "height": 973
        },
        "id": "Y-6M0zN54zqU",
        "outputId": "1c1c8b7d-7897-400a-d799-88759f562155"
      },
      "source": [
        "TFIDF_Vectoriser=TfidfVectorizer( binary=True,sublinear_tf = True, max_features = 3000,norm='l1') \n",
        "train_features_TFIDF = TFIDF_Vectoriser.fit_transform(train_data['body'])\n",
        "# This creates input features for our classification on all subsets of our collection.\n",
        "validation_features_TFIDF = TFIDF_Vectoriser.transform(validation_data['body'])\n",
        "test_features_TFIDF = TFIDF_Vectoriser.transform(test_data['body'])\n",
        "lr_tfidf = LogisticRegression(solver='newton-cg', max_iter = 10000,C=100)\n",
        "lr_model1 = lr_tfidf.fit(train_features_TFIDF, train_labels)\n",
        "test_predicted_labels1 = lr_model1.predict(test_features_TFIDF)\n",
        "evaluation_summary(\"TF-IDF LR\",  test_predicted_labels1, test_labels)"
      ],
      "execution_count": null,
      "outputs": [
        {
          "output_type": "stream",
          "text": [
            "Evaluation for: TF-IDF LR\n",
            "Classifier 'TF-IDF LR' has Acc=0.763 P=0.471 R=0.583 F1=0.775\n",
            "               precision    recall  f1-score   support\n",
            "\n",
            "     negative      0.326     0.571     0.415       161\n",
            "      neutral      0.879     0.795     0.835      2781\n",
            "     positive      0.666     0.728     0.696      1008\n",
            "very negative      0.250     0.364     0.296        22\n",
            "very positive      0.233     0.455     0.308        44\n",
            "\n",
            "     accuracy                          0.763      4016\n",
            "    macro avg      0.471     0.583     0.510      4016\n",
            " weighted avg      0.793     0.763     0.775      4016\n",
            "\n",
            "\n",
            "Confusion matrix:\n",
            " [[  92  179    8    2    1]\n",
            " [  59 2211  221   12   11]\n",
            " [   2  354  734    0   12]\n",
            " [   8   16    0    8    0]\n",
            " [   0   21   45    0   20]]\n"
          ],
          "name": "stdout"
        },
        {
          "output_type": "display_data",
          "data": {
            "image/png": "[encoded data removed]",
            "text/plain": [
              "<Figure size 432x288 with 1 Axes>"
            ]
          },
          "metadata": {
            "tags": [],
            "needs_background": "light"
          }
        },
        {
          "output_type": "display_data",
          "data": {
            "image/png": "[encoded data removed]",
            "text/plain": [
              "<Figure size 432x288 with 1 Axes>"
            ]
          },
          "metadata": {
            "tags": [],
            "needs_background": "light"
          }
        }
      ]
    },
    {
      "cell_type": "markdown",
      "metadata": {
        "id": "1IF40q_nP5Lr"
      },
      "source": [
        "**Adding Vectorization parameter \"norm=l2\"**"
      ]
    },
    {
      "cell_type": "code",
      "metadata": {
        "colab": {
          "base_uri": "https://localhost:8080/",
          "height": 973
        },
        "id": "vbQIACUuPJkY",
        "outputId": "3261e5ae-5b46-4709-f513-052692d23e5b"
      },
      "source": [
        "TFIDF_Vectoriser=TfidfVectorizer( binary=True,sublinear_tf = True, max_features = 3000,norm='l2') \n",
        "train_features_TFIDF = TFIDF_Vectoriser.fit_transform(train_data['body'])\n",
        "# This creates input features for our classification on all subsets of our collection.\n",
        "validation_features_TFIDF = TFIDF_Vectoriser.transform(validation_data['body'])\n",
        "test_features_TFIDF = TFIDF_Vectoriser.transform(test_data['body'])\n",
        "lr_tfidf = LogisticRegression(solver='newton-cg', max_iter = 10000,C=100)\n",
        "lr_model1 = lr_tfidf.fit(train_features_TFIDF, train_labels)\n",
        "test_predicted_labels1 = lr_model1.predict(test_features_TFIDF)\n",
        "evaluation_summary(\"TF-IDF LR\",  test_predicted_labels1, test_labels)"
      ],
      "execution_count": null,
      "outputs": [
        {
          "output_type": "stream",
          "text": [
            "Evaluation for: TF-IDF LR\n",
            "Classifier 'TF-IDF LR' has Acc=0.741 P=0.512 R=0.530 F1=0.743\n",
            "               precision    recall  f1-score   support\n",
            "\n",
            "     negative      0.372     0.429     0.398       245\n",
            "      neutral      0.825     0.805     0.815      2578\n",
            "     positive      0.687     0.699     0.693      1083\n",
            "very negative      0.375     0.387     0.381        31\n",
            "very positive      0.302     0.329     0.315        79\n",
            "\n",
            "     accuracy                          0.741      4016\n",
            "    macro avg      0.512     0.530     0.520      4016\n",
            " weighted avg      0.747     0.741     0.743      4016\n",
            "\n",
            "\n",
            "Confusion matrix:\n",
            " [[ 105  164    7    5    1]\n",
            " [ 125 2075  280   14   20]\n",
            " [   7  306  757    0   32]\n",
            " [   7   13    0   12    0]\n",
            " [   1   20   39    0   26]]\n"
          ],
          "name": "stdout"
        },
        {
          "output_type": "display_data",
          "data": {
            "image/png": "[encoded data removed]",
            "text/plain": [
              "<Figure size 432x288 with 1 Axes>"
            ]
          },
          "metadata": {
            "tags": [],
            "needs_background": "light"
          }
        },
        {
          "output_type": "display_data",
          "data": {
            "image/png": "[encoded data removed]",
            "text/plain": [
              "<Figure size 432x288 with 1 Axes>"
            ]
          },
          "metadata": {
            "tags": [],
            "needs_background": "light"
          }
        }
      ]
    },
    {
      "cell_type": "markdown",
      "metadata": {
        "id": "eQ8V0rr42KuI"
      },
      "source": [
        "**Adding features**"
      ]
    },
    {
      "cell_type": "code",
      "metadata": {
        "id": "zwo4dM0-2JTD"
      },
      "source": [
        "from sklearn.base import BaseEstimator, TransformerMixin\n",
        "\n",
        "class ItemSelector(BaseEstimator, TransformerMixin):\n",
        "    \"\"\"For data grouped by feature, select subset of data at a provided key.    \"\"\"\n",
        "\n",
        "    def __init__(self, key):\n",
        "        self.key = key\n",
        "\n",
        "    def fit(self, x, y=None):\n",
        "        return self\n",
        "\n",
        "    def transform(self, data_dict):\n",
        "        return data_dict[self.key]"
      ],
      "execution_count": null,
      "outputs": []
    },
    {
      "cell_type": "code",
      "metadata": {
        "colab": {
          "base_uri": "https://localhost:8080/"
        },
        "id": "YPZ_WDqX2gyu",
        "outputId": "eaa55530-e193-4b48-dd47-15236901c571"
      },
      "source": [
        "CountVectorizer( binary=True ) "
      ],
      "execution_count": null,
      "outputs": [
        {
          "output_type": "execute_result",
          "data": {
            "text/plain": [
              "CountVectorizer(analyzer='word', binary=True, decode_error='strict',\n",
              "                dtype=<class 'numpy.int64'>, encoding='utf-8', input='content',\n",
              "                lowercase=True, max_df=1.0, max_features=None, min_df=1,\n",
              "                ngram_range=(1, 1), preprocessor=None, stop_words=None,\n",
              "                strip_accents=None, token_pattern='(?u)\\\\b\\\\w\\\\w+\\\\b',\n",
              "                tokenizer=None, vocabulary=None)"
            ]
          },
          "metadata": {
            "tags": []
          },
          "execution_count": 125
        }
      ]
    },
    {
      "cell_type": "code",
      "metadata": {
        "id": "sGQ6JAQe2yB4"
      },
      "source": [
        "from sklearn.pipeline import FeatureUnion\n",
        "from sklearn.pipeline import Pipeline\n",
        "from sklearn.feature_extraction.text import CountVectorizer\n",
        "\n",
        "# Use FeatureUnion to combine the features from body and majority_type\n",
        "prediction_pipeline = Pipeline([\n",
        "        ('union', FeatureUnion(\n",
        "          transformer_list=[\n",
        "            ('body', Pipeline([\n",
        "              ('selector', ItemSelector(key='body')),\n",
        "              ('tf-idf', TfidfVectorizer( binary=True,sublinear_tf = False,max_features=50000)), \n",
        "              ])),\n",
        "            ('subreddit', Pipeline([\n",
        "              ('selector', ItemSelector(key='subreddit')),\n",
        "              ('tf-idf', TfidfVectorizer( binary=True,sublinear_tf = False,max_features=50000)), \n",
        "              ])),\n",
        "        ])\n",
        "        )\n",
        "    ])"
      ],
      "execution_count": null,
      "outputs": []
    },
    {
      "cell_type": "code",
      "metadata": {
        "id": "i2feaUpw3PMd"
      },
      "source": [
        "one_hot_train_features = prediction_pipeline.fit_transform(train_data)\n",
        "one_hot_validation_features = prediction_pipeline.transform(validation_data)\n",
        "one_hot_test_features = prediction_pipeline.transform(test_data)"
      ],
      "execution_count": null,
      "outputs": []
    },
    {
      "cell_type": "code",
      "metadata": {
        "colab": {
          "base_uri": "https://localhost:8080/",
          "height": 973
        },
        "id": "MaY9Ufnb3Ua5",
        "outputId": "63a7acd3-619a-478c-b681-f9187e7f6b6c"
      },
      "source": [
        "lr = LogisticRegression(solver='saga',max_iter = 10000,C=100)\n",
        "combined_model = lr.fit(one_hot_train_features,train_labels)\n",
        "evaluation_summary(\"LR\", lr.predict(one_hot_validation_features), validation_labels) "
      ],
      "execution_count": null,
      "outputs": [
        {
          "output_type": "stream",
          "text": [
            "Evaluation for: LR\n",
            "Classifier 'LR' has Acc=0.733 P=0.441 R=0.558 F1=0.743\n",
            "               precision    recall  f1-score   support\n",
            "\n",
            "     negative      0.349     0.581     0.436       129\n",
            "      neutral      0.848     0.777     0.811      2140\n",
            "     positive      0.614     0.652     0.633       796\n",
            "very negative      0.133     0.250     0.174         8\n",
            "very positive      0.260     0.528     0.349        36\n",
            "\n",
            "     accuracy                          0.733      3109\n",
            "    macro avg      0.441     0.558     0.480      3109\n",
            " weighted avg      0.759     0.733     0.743      3109\n",
            "\n",
            "\n",
            "Confusion matrix:\n",
            " [[  75  132    8    0    0]\n",
            " [  50 1663  232    6   10]\n",
            " [   2  317  519    0    7]\n",
            " [   2   11    0    2    0]\n",
            " [   0   17   37    0   19]]\n"
          ],
          "name": "stdout"
        },
        {
          "output_type": "display_data",
          "data": {
            "image/png": "[encoded data removed]",
            "text/plain": [
              "<Figure size 432x288 with 1 Axes>"
            ]
          },
          "metadata": {
            "tags": [],
            "needs_background": "light"
          }
        },
        {
          "output_type": "display_data",
          "data": {
            "image/png": "[encoded data removed]",
            "text/plain": [
              "<Figure size 432x288 with 1 Axes>"
            ]
          },
          "metadata": {
            "tags": [],
            "needs_background": "light"
          }
        }
      ]
    },
    {
      "cell_type": "code",
      "metadata": {
        "colab": {
          "base_uri": "https://localhost:8080/",
          "height": 973
        },
        "id": "SKUSe91MVJLn",
        "outputId": "f1136d43-02f0-4746-8b94-3f0da8b09c91"
      },
      "source": [
        "lr = LogisticRegression(solver='saga',max_iter = 10000,C=100)\n",
        "combined_model = lr.fit(one_hot_train_features,train_labels)\n",
        "evaluation_summary(\"LR\", lr.predict(one_hot_test_features), test_labels) "
      ],
      "execution_count": null,
      "outputs": [
        {
          "output_type": "stream",
          "text": [
            "Evaluation for: LR\n",
            "Classifier 'LR' has Acc=0.747 P=0.456 R=0.629 F1=0.758\n",
            "               precision    recall  f1-score   support\n",
            "\n",
            "     negative      0.291     0.539     0.378       152\n",
            "      neutral      0.861     0.785     0.821      2757\n",
            "     positive      0.655     0.686     0.670      1052\n",
            "very negative      0.219     0.636     0.326        11\n",
            "very positive      0.256     0.500     0.338        44\n",
            "\n",
            "     accuracy                          0.747      4016\n",
            "    macro avg      0.456     0.629     0.507      4016\n",
            " weighted avg      0.777     0.747     0.758      4016\n",
            "\n",
            "\n",
            "Confusion matrix:\n",
            " [[  82  189    8    3    0]\n",
            " [  59 2165  282    1    7]\n",
            " [   3  362  722    0   15]\n",
            " [   7   18    0    7    0]\n",
            " [   1   23   40    0   22]]\n"
          ],
          "name": "stdout"
        },
        {
          "output_type": "display_data",
          "data": {
            "image/png": "[encoded data removed]",
            "text/plain": [
              "<Figure size 432x288 with 1 Axes>"
            ]
          },
          "metadata": {
            "tags": [],
            "needs_background": "light"
          }
        },
        {
          "output_type": "display_data",
          "data": {
            "image/png": "[encoded data removed]",
            "text/plain": [
              "<Figure size 432x288 with 1 Axes>"
            ]
          },
          "metadata": {
            "tags": [],
            "needs_background": "light"
          }
        }
      ]
    }
  ]
}